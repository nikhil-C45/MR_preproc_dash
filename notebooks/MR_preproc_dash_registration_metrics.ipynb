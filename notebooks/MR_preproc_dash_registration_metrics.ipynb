{
 "cells": [
  {
   "cell_type": "markdown",
   "metadata": {},
   "source": [
    "# Test code for computing registration metrics (reproducibilty) \n",
    "\n",
    "1. Check xcorr_vol between two outputs of the two preproc runs \n",
    "2. Check registration params\n",
    "    - xfminvert stx2_052_S_1251_20070309_t1.xfm test.xfm\n",
    "    - xfm2param test.xfm\n",
    "\n",
    "\n",
    "**Expected use case:** \n",
    "    Run this script after preprocessing is complete to provide info on each subject"
   ]
  },
  {
   "cell_type": "code",
   "execution_count": 3,
   "metadata": {},
   "outputs": [],
   "source": [
    "import pandas as pd\n",
    "import numpy as np\n",
    "import sys\n",
    "import os\n",
    "import re\n",
    "import subprocess\n",
    "sys.path.append('../')\n",
    "from lib.preproc_checks import *"
   ]
  },
  {
   "cell_type": "markdown",
   "metadata": {},
   "source": [
    "# Data paths"
   ]
  },
  {
   "cell_type": "code",
   "execution_count": 29,
   "metadata": {},
   "outputs": [],
   "source": [
    "proj_dir = '/Users/nikhil/projects/MR_preproc_dash/'\n",
    "data_dir = proj_dir + 'data/'\n",
    "script_dir = proj_dir + 'scripts/'\n",
    "preproc_pipeline_dir = '/Users/nikhil/code/git_repos/nist_mni_pipelines/'\n",
    "\n",
    "if preproc_pipeline_dir not in sys.path:\n",
    "    sys.path.append(preproc_pipeline_dir)"
   ]
  },
  {
   "cell_type": "markdown",
   "metadata": {},
   "source": [
    "# Calling minc from python\n",
    "**Using subprocess (a bit hacky but easier than pyminc interface!)**"
   ]
  },
  {
   "cell_type": "code",
   "execution_count": 93,
   "metadata": {},
   "outputs": [
    {
     "name": "stdout",
     "output_type": "stream",
     "text": [
      "1.0\n",
      "                   x        y        z\n",
      "center             0        0        0\n",
      "translation   2.0631  43.5027  7.50818\n",
      "rotation     2.59585  0.26141 -0.98333\n",
      "scale        0.94557  0.95997  0.87936\n",
      "shear        0.00055 -0.00056  0.00873\n"
     ]
    }
   ],
   "source": [
    "# Single timepoint \n",
    "vol1 = data_dir + '052_S_4807/20121019/stx/stx_052_S_4807_20121019_t1.mnc'\n",
    "vol2 = data_dir + '052_S_4807/20121019/stx/stx_052_S_4807_20121019_t1.mnc'\n",
    "xfm1 = data_dir + '052_S_4807/20121019/stx/stx_052_S_4807_20121019_t1.xfm'\n",
    "\n",
    "xcorr = get_xcorr_vol(vol1,vol2)\n",
    "reg_param = get_reg_params(xfm1)\n",
    "\n",
    "print(xcorr)\n",
    "print(reg_param)"
   ]
  },
  {
   "cell_type": "code",
   "execution_count": 106,
   "metadata": {},
   "outputs": [
    {
     "name": "stdout",
     "output_type": "stream",
     "text": [
      "                   x         y        z\n",
      "center       0.00000   0.00000  0.00000\n",
      "rotation     2.59585   0.26141 -0.98333\n",
      "scale        0.94557   0.95997  0.87936\n",
      "shear        0.00055  -0.00056  0.00873\n",
      "translation  2.06310  43.50268  7.50818\n",
      "               x    y    z\n",
      "center       0.0  0.0  0.0\n",
      "rotation     0.0  0.0  0.0\n",
      "scale        0.0  0.0  0.0\n",
      "shear        0.0  0.0  0.0\n",
      "translation  0.0  0.0  0.0\n"
     ]
    }
   ],
   "source": [
    "# Get reg_params for all timepoints\n",
    "subject_idx = '052_S_4807'\n",
    "timepoints = ['20121019', '20130215', '20130813', '20140807', '20150804']\n",
    "\n",
    "reg_param_list = []\n",
    "for tp in timepoints:\n",
    "    xfm = data_dir + '{}/{}/stx/stx_{}_{}_t1.xfm'.format(subject_idx,tp,subject_idx,tp)\n",
    "    reg_param = get_reg_params(xfm).apply(pd.to_numeric)\n",
    "    reg_param_list.append(reg_param)\n",
    "    \n",
    "print(pd.concat(reg_param_list).groupby(level=0).mean())\n",
    "print(pd.concat(reg_param_list).groupby(level=0).std())"
   ]
  },
  {
   "cell_type": "code",
   "execution_count": 92,
   "metadata": {},
   "outputs": [],
   "source": [
    "def get_reg_diff(df1,df2):\n",
    "    return (df1-df2).abs()\n",
    "\n",
    "def get_xcorr_vol(vol1,vol2):\n",
    "    minc_xcorr_cmd = script_dir + 'run_xcorr_cmd.sh' + ' ' + vol1 + ' ' + vol2\n",
    "    xcorr = 0\n",
    "    try:\n",
    "        xcorr = float(subprocess.check_output(minc_xcorr_cmd, shell=True))\n",
    "    except:\n",
    "        print('Could not run minc command. Check minc script / command: \\n{}\\n'.format(minc_xcorr_cmd))\n",
    "        \n",
    "    return xcorr\n",
    "\n",
    "def get_reg_params(xfm):\n",
    "    minc_reg_param_cmd = script_dir + 'run_reg_param_cmd.sh' + ' ' + xfm1\n",
    "    reg_df = pd.DataFrame(index=['center','translation','rotation','scale','shear'],columns=['x','y','z'])\n",
    "    string_check = False\n",
    "    origin_check = False\n",
    "    \n",
    "    try: \n",
    "        reg_param_str = str(subprocess.check_output(minc_reg_param_cmd, shell=True),'utf-8')\n",
    "        #print(reg_param_str)\n",
    "        reg_param_split = str.split(reg_param_str,' ')        \n",
    "\n",
    "        # Check if output string is what you expect\n",
    "        string_check = ((reg_param_split[3]=='-center') & (reg_param_split[7]=='-translation') & \n",
    "                        (reg_param_split[11]=='-rotation') & (reg_param_split[15]=='-scale') & \n",
    "                        (reg_param_split[19]=='-shear'))\n",
    "\n",
    "        # Check if origin = [0,0,0]\n",
    "        if string_check:\n",
    "            origin_check = (np.array(reg_param_split[4:7]).astype(float) == [0,0,0]).all()\n",
    "\n",
    "            if origin_check:\n",
    "                reg_df.loc['center'] = np.array(reg_param_split[4:7]).astype(float)\n",
    "                reg_df.loc['translation'] = np.array(reg_param_split[8:11]).astype(float)\n",
    "                reg_df.loc['rotation'] = np.array(reg_param_split[12:15]).astype(float)\n",
    "                reg_df.loc['scale'] = np.array(reg_param_split[16:19]).astype(float)\n",
    "                reg_df.loc['shear'] = np.array(reg_param_split[20:23]).astype(float)\n",
    "            else:\n",
    "                print('Origin is not at [0,0,0]. Check input image space.')\n",
    "        else: \n",
    "            print('minc command output string doesnot match expected output from xfm2param')\n",
    "    except:\n",
    "        print('Could not run minc command. Check minc script / command: \\n{}\\n'.format(minc_reg_param_cmd))\n",
    "\n",
    "    return reg_df\n"
   ]
  },
  {
   "cell_type": "code",
   "execution_count": null,
   "metadata": {},
   "outputs": [],
   "source": []
  }
 ],
 "metadata": {
  "kernelspec": {
   "display_name": "Python 3",
   "language": "python",
   "name": "python3"
  },
  "language_info": {
   "codemirror_mode": {
    "name": "ipython",
    "version": 3
   },
   "file_extension": ".py",
   "mimetype": "text/x-python",
   "name": "python",
   "nbconvert_exporter": "python",
   "pygments_lexer": "ipython3",
   "version": "3.6.6"
  }
 },
 "nbformat": 4,
 "nbformat_minor": 2
}
